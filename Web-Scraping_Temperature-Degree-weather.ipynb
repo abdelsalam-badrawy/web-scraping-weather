{
 "cells": [
  {
   "cell_type": "code",
   "execution_count": null,
   "metadata": {},
   "outputs": [],
   "source": [
    "#web-scraping for collecting Riyadh Temperature on Hourly basis\n",
    "#importing methods from the below library \n",
    "import requests\n",
    "from bs4 import BeautifulSoup\n",
    "from datetime import datetime\n",
    "import time\n",
    "\n",
    "#using while loop to keep connecting to the site and getting the required HTML file\n",
    "while True:\n",
    "    url = 'https://www.bbc.com/weather/108410'\n",
    "    response = requests.request('GET', url)\n",
    "    soup = BeautifulSoup(response.text,'html.parser')\n",
    "  #using find method to collect the div with class name\"wr-day__title wr-js-day-content-title\"\n",
    "    data_1 = soup.find_all('div', attrs={'class':'wr-day__title wr-js-day-content-title'})\n",
    "   #Day will present the Today or Night for the day \n",
    "    Day=data_1[0].text\n",
    "    data_4 = soup.find_all('span', attrs={'class':'wr-time-slot-primary__hours wr-u-font-weight-500'})\n",
    "    #data_time will present the specific hour\n",
    "    data_time=data_4[0].text\n",
    "    data_2 = soup.find_all('div', attrs={'class':'wr-time-slot-primary__temperature'})\n",
    "   #present the temperature in celsius \n",
    "    data_3=data_2[0].find('span',attrs={'class':'wr-value--temperature--c'}).text\n",
    "    print(Day)\n",
    "    print(data_time)\n",
    "    print(data_3)\n",
    "    #creating text file \"temperature.txt\" to record the hour,temperature,day\n",
    "    f = open('temperature.txt', 'a')\n",
    "    now = datetime.now()\n",
    "    time_now = now.strftime(\"%d/%m/%Y\")\n",
    "    \n",
    "    output='Riyadh Temperature at '+Day+  '   at   '  +data_time+   '    was   '   + data_3+   '    at   '+   time_now+'\\n\\n'\n",
    "    f.write(output)\n",
    "    f.close()\n",
    "    #running the request every one hour to get the hourly records\n",
    "    time.sleep(3600)"
   ]
  },
  {
   "cell_type": "code",
   "execution_count": null,
   "metadata": {},
   "outputs": [],
   "source": []
  },
  {
   "cell_type": "code",
   "execution_count": null,
   "metadata": {},
   "outputs": [],
   "source": []
  }
 ],
 "metadata": {
  "kernelspec": {
   "display_name": "Python 3",
   "language": "python",
   "name": "python3"
  },
  "language_info": {
   "codemirror_mode": {
    "name": "ipython",
    "version": 3
   },
   "file_extension": ".py",
   "mimetype": "text/x-python",
   "name": "python",
   "nbconvert_exporter": "python",
   "pygments_lexer": "ipython3",
   "version": "3.8.5"
  }
 },
 "nbformat": 4,
 "nbformat_minor": 4
}
